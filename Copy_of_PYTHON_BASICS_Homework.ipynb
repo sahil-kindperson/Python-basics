{
  "nbformat": 4,
  "nbformat_minor": 0,
  "metadata": {
    "colab": {
      "provenance": []
    },
    "kernelspec": {
      "name": "python3",
      "display_name": "Python 3"
    },
    "language_info": {
      "name": "python"
    }
  },
  "cells": [
    {
      "cell_type": "code",
      "source": [
        "### BASIC QUESTIONS."
      ],
      "metadata": {
        "id": "whLZT6kXdsfJ"
      },
      "execution_count": null,
      "outputs": []
    },
    {
      "cell_type": "code",
      "execution_count": null,
      "metadata": {
        "id": "Mg2x3xKppyV4"
      },
      "outputs": [],
      "source": [
        "#(1)What is Python, and why is it popular?\n",
        "#Ans:\n",
        "Python is a high-level, interpreted programming language known for its simplicity and readability."
      ]
    },
    {
      "cell_type": "code",
      "source": [
        "#(2)What is an interpreter in Python?\n",
        "#Ans:\n",
        "an interpreter is a program that reads and executes the Python code line by line."
      ],
      "metadata": {
        "id": "oWrEkh4uVv_p"
      },
      "execution_count": null,
      "outputs": []
    },
    {
      "cell_type": "code",
      "source": [
        "#(3)What are pre-defined keywords in Python?\n",
        "#Ans:\n",
        " keywords are reserved words that have a special meaning and purpose in the language."
      ],
      "metadata": {
        "id": "euMmxmaOWHmD"
      },
      "execution_count": null,
      "outputs": []
    },
    {
      "cell_type": "code",
      "source": [
        "(4)Can keywords be used as variable names in Python?\n",
        "# Ans:\n",
        " No, keywords in Python cannot be used as variable names (or identifiers). Since keywords have a special meaning in the language, using them as variable names would cause a syntax error."
      ],
      "metadata": {
        "id": "oOXWcfCvWoJV"
      },
      "execution_count": null,
      "outputs": []
    },
    {
      "cell_type": "code",
      "source": [
        "#(5)What is mutability in Python?\n",
        "#Ans:\n",
        "In Python, mutability refers to the ability of an object to be changed after it is created."
      ],
      "metadata": {
        "id": "MDpx2oN-Xc9R"
      },
      "execution_count": null,
      "outputs": []
    },
    {
      "cell_type": "code",
      "source": [
        "#(6)  Why are lists mutable, but tuples are immutable?\n",
        "#Ans:\n",
        " The reason lists are mutable and tuples are immutable in Python has to do with their intended use cases, performance considerations, and how the language designers chose to structure these data types."
      ],
      "metadata": {
        "id": "HKqOa7SaX_iD"
      },
      "execution_count": null,
      "outputs": []
    },
    {
      "cell_type": "code",
      "source": [
        "#(7)  What is the difference between “==” and “is” operators in Python?\n",
        "#Ans: In Python, both the == and is operators are used for comparison, but they serve different purposes:\n",
        "      #(1): ==: equality operator\n",
        "      #(2): is: identity operator\n"
      ],
      "metadata": {
        "id": "ufqzPUqaYXNC"
      },
      "execution_count": null,
      "outputs": []
    },
    {
      "cell_type": "code",
      "source": [
        "#(8)What are logical operators in Python?\n",
        "#Ans: In Python, logical operators are used to combine or manipulate boolean values (True or False)."
      ],
      "metadata": {
        "id": "HMIdhuYPZRNS"
      },
      "execution_count": null,
      "outputs": []
    },
    {
      "cell_type": "code",
      "source": [
        "#(9)What is type casting in Python?\n",
        "#Ans: Type casting in Python refers to converting one data type to another. It allows you to change the type of a value (or variable) so it can be used in a specific way or with a specific function that requires a particular data type."
      ],
      "metadata": {
        "id": "R4kth8I7Z21D"
      },
      "execution_count": null,
      "outputs": []
    },
    {
      "cell_type": "code",
      "source": [
        "#(10)What is the difference between implicit and explicit type casting?\n",
        "#Ans: The difference between implicit and explicit type casting in Python lies in how the conversion of data types is done and who controls it (whether it's done automatically by Python or manually by the programmer)."
      ],
      "metadata": {
        "id": "g8LLH1QUaazV"
      },
      "execution_count": null,
      "outputs": []
    },
    {
      "cell_type": "code",
      "source": [
        "#(11)What is the purpose of conditional statements in Python?\n",
        "#Ans: The purpose of conditional statements in Python (and in programming in general) is to allow the program to make decisions based on certain conditions.\n",
        "      #1. if\n",
        "      #2. elif\n",
        "      #3. else"
      ],
      "metadata": {
        "id": "j3gHq51KawWf"
      },
      "execution_count": null,
      "outputs": []
    },
    {
      "cell_type": "code",
      "source": [
        "#(12) How does the elif statement work?\n",
        "#Ans: The elif statement in Python stands for \"else if\" and is used in conjunction with the if and else statements. It allows you to check multiple conditions sequentially, and if the initial if condition is not true, it moves on to the next elif condition. If any elif condition is true, the corresponding block of code will execute. If none of the conditions in the if and elif branches are true, the else block will be executed (if present)."
      ],
      "metadata": {
        "id": "3qS6p7erbnOH"
      },
      "execution_count": null,
      "outputs": []
    },
    {
      "cell_type": "code",
      "source": [
        "#(13)0 What is the difference between for and while loops?\n",
        "#Ans: The main difference between for and while loops in Python lies in how they control the flow of execution and how they determine when to stop looping."
      ],
      "metadata": {
        "id": "_hClVNE2cFIR"
      },
      "execution_count": null,
      "outputs": []
    },
    {
      "cell_type": "code",
      "source": [
        "#(14) Describe a scenario where a while loop is more suitable than a for loop?\n",
        "#Ans: A while loop is more suitable than a for loop when you don't know in advance how many times the loop should run, and the number of iterations depends on a dynamic condition that will change during the loop's execution."
      ],
      "metadata": {
        "id": "NiAQ-9l1cZ6k"
      },
      "execution_count": null,
      "outputs": []
    },
    {
      "cell_type": "code",
      "source": [
        "### PRACTICAL QUESTION."
      ],
      "metadata": {
        "id": "smgPxPFPdkD7"
      },
      "execution_count": null,
      "outputs": []
    },
    {
      "cell_type": "code",
      "source": [
        "# (1)0 Write a Python program to print \"Hello, World!_\n",
        "print(\"HELLO WORLD\")"
      ],
      "metadata": {
        "colab": {
          "base_uri": "https://localhost:8080/"
        },
        "id": "r6Wj6Oxqd2Ph",
        "outputId": "14fb8ca1-5eac-4805-af34-b23b9ca3aa11"
      },
      "execution_count": null,
      "outputs": [
        {
          "output_type": "stream",
          "name": "stdout",
          "text": [
            "HELLO WORLD\n"
          ]
        }
      ]
    },
    {
      "cell_type": "code",
      "source": [
        "#(2)Write a Python program that displays your name and age\n",
        "# Display Name and Age\n",
        "name = \"sahil\"\n",
        "age = 21\n",
        "\n",
        "print(\"Name\")\n",
        "print(\"Age\")\n"
      ],
      "metadata": {
        "colab": {
          "base_uri": "https://localhost:8080/"
        },
        "id": "kvHyh7dAeID6",
        "outputId": "7c930614-a26d-4535-ba95-b75023081601"
      },
      "execution_count": null,
      "outputs": [
        {
          "output_type": "stream",
          "name": "stdout",
          "text": [
            "Name\n",
            "Age\n"
          ]
        }
      ]
    },
    {
      "cell_type": "code",
      "source": [
        "#(3)Write code to print all the pre-defined keywords in Python using the keyword library?\n",
        "\n",
        "\n",
        "import keyword\n",
        "\n",
        "print(\"Python Keywords:\")\n",
        "print(keyword.kwlist)"
      ],
      "metadata": {
        "colab": {
          "base_uri": "https://localhost:8080/"
        },
        "id": "XffGppQjgCBc",
        "outputId": "6e1edd92-663d-4ea8-da14-e93ac015a4bc"
      },
      "execution_count": null,
      "outputs": [
        {
          "output_type": "stream",
          "name": "stdout",
          "text": [
            "Python Keywords:\n",
            "['False', 'None', 'True', 'and', 'as', 'assert', 'async', 'await', 'break', 'class', 'continue', 'def', 'del', 'elif', 'else', 'except', 'finally', 'for', 'from', 'global', 'if', 'import', 'in', 'is', 'lambda', 'nonlocal', 'not', 'or', 'pass', 'raise', 'return', 'try', 'while', 'with', 'yield']\n"
          ]
        }
      ]
    },
    {
      "cell_type": "code",
      "source": [
        "#(4)Write a program that checks if a given word is a Python keyword.\n",
        "import keyword\n",
        "\n",
        "word = input(\"Enter a word to check if it's a Python keyword: \")\n",
        "\n",
        "if keyword.iskeyword(word):\n",
        "    print(f\"'{word}' is a Python keyword.\")\n",
        "else:\n",
        "    print(f\"'{word}' is NOT a Python keyword.\")\n"
      ],
      "metadata": {
        "colab": {
          "base_uri": "https://localhost:8080/"
        },
        "id": "ihf5KW9GgqEp",
        "outputId": "058dddb3-6fa5-43ee-bdf2-735b148518cd"
      },
      "execution_count": null,
      "outputs": [
        {
          "output_type": "stream",
          "name": "stdout",
          "text": [
            "Enter a word to check if it's a Python keyword: if\n",
            "'if' is a Python keyword.\n"
          ]
        }
      ]
    },
    {
      "cell_type": "code",
      "source": [
        "#(5)0 Create a list and tuple in Python, and demonstrate how attempting to change an element works differently for each.\n",
        "\n",
        "my_list = [12,32,34,\"sahil\",\"sitaram\"]\n",
        "my_tuple = (10,20,30,\"tomato\",\"potato\")\n",
        "\n",
        "my_list[1]=90\n",
        "#my_tuple[3]=\"onion\"\n",
        "# tuple is a immutable"
      ],
      "metadata": {
        "id": "Ieljh4AJhimy"
      },
      "execution_count": null,
      "outputs": []
    },
    {
      "cell_type": "code",
      "source": [
        "my_list"
      ],
      "metadata": {
        "colab": {
          "base_uri": "https://localhost:8080/"
        },
        "id": "HAq79IPci9zG",
        "outputId": "ab59a741-1548-484b-95c0-153f16caac8a"
      },
      "execution_count": null,
      "outputs": [
        {
          "output_type": "execute_result",
          "data": {
            "text/plain": [
              "[12, 90, 34, 'sahil', 'sitaram']"
            ]
          },
          "metadata": {},
          "execution_count": 27
        }
      ]
    },
    {
      "cell_type": "code",
      "source": [
        "#(6)Write a function to demonstrate the behavior of mutable and immutable arguments.\n"
      ],
      "metadata": {
        "id": "v1MRCTuXjilU"
      },
      "execution_count": null,
      "outputs": []
    },
    {
      "cell_type": "code",
      "source": [
        "#(8) Write a program to demonstrate the use of logical operators.\n",
        "\n",
        "# Define two variables\n",
        "a = 10\n",
        "b = 5\n",
        "\n",
        "# Using 'and' logical operator\n",
        "if a > 5 and b < 10:\n",
        "    print(\"Both conditions are True: a > 5 and b < 10\")\n",
        "\n",
        "# Using 'or' logical operator\n",
        "if a > 15 or b < 10:\n",
        "    print(\"At least one condition is True: a > 15 or b < 10\")"
      ],
      "metadata": {
        "id": "BOpPWdeoxLoi",
        "colab": {
          "base_uri": "https://localhost:8080/"
        },
        "outputId": "f13f09ff-80dd-42e9-bfd3-4d92abdafa96"
      },
      "execution_count": null,
      "outputs": [
        {
          "output_type": "stream",
          "name": "stdout",
          "text": [
            "Both conditions are True: a > 5 and b < 10\n",
            "At least one condition is True: a > 15 or b < 10\n"
          ]
        }
      ]
    },
    {
      "cell_type": "code",
      "source": [
        "#(9) Write a Python program to convert user input from string to integer, float, and boolean types.\n",
        "\n",
        "# Taking user input as a string\n",
        "user_input = input(\"Enter a value: \")\n",
        "\n",
        "# Converting string to integer\n",
        "try:\n",
        "    integer_value = int(user_input)\n",
        "    print(f\"Integer value: {integer_value}\")\n",
        "except ValueError:\n",
        "    print(\"Input cannot be converted to an integer.\")\n",
        "\n",
        "# Converting string to float\n",
        "try:\n",
        "    float_value = float(user_input)\n",
        "    print(f\"Float value: {float_value}\")\n",
        "except ValueError:\n",
        "    print(\"Input cannot be converted to a float.\")\n",
        "\n",
        "# Converting string to boolean\n",
        "# Here we define a simple rule: \"True\" or \"False\" (case-insensitive)\n",
        "if user_input.lower() == \"true\":\n",
        "    boolean_value = True\n",
        "elif user_input.lower() == \"false\":\n",
        "    boolean_value = False\n",
        "else:\n",
        "    # Any other string input is considered \"truthy\" or \"falsy\" in Python.\n",
        "    boolean_value = bool(user_input)\n",
        "\n",
        "print(f\"Boolean value: {boolean_value}\")\n"
      ],
      "metadata": {
        "colab": {
          "base_uri": "https://localhost:8080/"
        },
        "id": "oRzdPU83foVN",
        "outputId": "fafb01a3-3b60-41fd-d55d-470527bc55df"
      },
      "execution_count": null,
      "outputs": [
        {
          "output_type": "stream",
          "name": "stdout",
          "text": [
            "Enter a value: 90\n",
            "Integer value: 90\n",
            "Float value: 90.0\n",
            "Boolean value: True\n"
          ]
        }
      ]
    },
    {
      "cell_type": "code",
      "source": [
        "#(10) Write code to demonstrate type casting with list elements\n",
        "\n",
        "mixed_list = [1, \"hello\", 3.14, True]\n",
        "\n",
        "int_list = [int(item) for item in mixed_list if isinstance(item, (int, float))]\n",
        "\n",
        "float_list = [float(item) for item in mixed_list if isinstance(item, (int, float))]\n",
        "\n",
        "bool_list = [bool(item) for item in mixed_list if isinstance(item, bool)]\n",
        "\n",
        "print(f\"Original list: {mixed_list}\")\n",
        "\n",
        "print(\"Integer List:\", int_list)\n",
        "print(\"Float List:\", float_list)\n",
        "print(\"Boolean List:\", bool_list)"
      ],
      "metadata": {
        "colab": {
          "base_uri": "https://localhost:8080/"
        },
        "id": "tde7VIF2jNln",
        "outputId": "36d23ddb-598b-4bb0-d6ea-ba433084562f"
      },
      "execution_count": null,
      "outputs": [
        {
          "output_type": "stream",
          "name": "stdout",
          "text": [
            "Original list: [1, 'hello', 3.14, True]\n",
            "Integer List: [1, 3, 1]\n",
            "Float List: [1.0, 3.14, 1.0]\n",
            "Boolean List: [True]\n"
          ]
        }
      ]
    },
    {
      "cell_type": "code",
      "source": [
        "#(11) Write a program that checks if a number is positive, negative, or zero.\n",
        "\n",
        "# Taking user input\n",
        "num = float(input(\"Enter a number: \"))\n",
        "\n",
        "# Check if the number is positive, negative, or zero\n",
        "if num > 0:\n",
        "    print(f\"{num} is a positive number.\")\n",
        "elif num < 0:\n",
        "    print(f\"{num} is a negative number.\")\n",
        "else:\n",
        "    print(f\"{num} is zero.\")"
      ],
      "metadata": {
        "colab": {
          "base_uri": "https://localhost:8080/"
        },
        "id": "_5qQr3T4j8v0",
        "outputId": "dec31c78-2e13-41fe-ed2c-a5de944b7ad0"
      },
      "execution_count": null,
      "outputs": [
        {
          "output_type": "stream",
          "name": "stdout",
          "text": [
            "Enter a number: 99\n",
            "99.0 is a positive number.\n"
          ]
        }
      ]
    },
    {
      "cell_type": "code",
      "source": [
        "#(12) Write a for loop to print numbers from 1 to 10.\n",
        "\n",
        "for i in range (1,20):\n",
        "\n",
        "   print(i)"
      ],
      "metadata": {
        "colab": {
          "base_uri": "https://localhost:8080/"
        },
        "id": "eGfRqtLCk0GC",
        "outputId": "9c579cf5-e967-4f32-af3c-7d3f2ac11153"
      },
      "execution_count": null,
      "outputs": [
        {
          "output_type": "stream",
          "name": "stdout",
          "text": [
            "1\n",
            "2\n",
            "3\n",
            "4\n",
            "5\n",
            "6\n",
            "7\n",
            "8\n",
            "9\n",
            "10\n",
            "11\n",
            "12\n",
            "13\n",
            "14\n",
            "15\n",
            "16\n",
            "17\n",
            "18\n",
            "19\n"
          ]
        }
      ]
    },
    {
      "cell_type": "code",
      "source": [
        "#(13) Write a Python program to find the sum of all even numbers between 1 and 50.\n",
        "\n",
        "sum_of_even = 0\n",
        "\n",
        "for num in range(1, 51):\n",
        "    if num % 2 == 0:\n",
        "        sum_of_even += num\n",
        "\n",
        "        print(f\"The sum of even numbers between 1 and 50 is: {sum_of_even}\")"
      ],
      "metadata": {
        "colab": {
          "base_uri": "https://localhost:8080/"
        },
        "id": "J73wQRm6lTxm",
        "outputId": "8d0b01f5-8f79-4e34-f532-5bf2a2d760f1"
      },
      "execution_count": null,
      "outputs": [
        {
          "output_type": "stream",
          "name": "stdout",
          "text": [
            "The sum of even numbers between 1 and 50 is: 2\n",
            "The sum of even numbers between 1 and 50 is: 6\n",
            "The sum of even numbers between 1 and 50 is: 12\n",
            "The sum of even numbers between 1 and 50 is: 20\n",
            "The sum of even numbers between 1 and 50 is: 30\n",
            "The sum of even numbers between 1 and 50 is: 42\n",
            "The sum of even numbers between 1 and 50 is: 56\n",
            "The sum of even numbers between 1 and 50 is: 72\n",
            "The sum of even numbers between 1 and 50 is: 90\n",
            "The sum of even numbers between 1 and 50 is: 110\n",
            "The sum of even numbers between 1 and 50 is: 132\n",
            "The sum of even numbers between 1 and 50 is: 156\n",
            "The sum of even numbers between 1 and 50 is: 182\n",
            "The sum of even numbers between 1 and 50 is: 210\n",
            "The sum of even numbers between 1 and 50 is: 240\n",
            "The sum of even numbers between 1 and 50 is: 272\n",
            "The sum of even numbers between 1 and 50 is: 306\n",
            "The sum of even numbers between 1 and 50 is: 342\n",
            "The sum of even numbers between 1 and 50 is: 380\n",
            "The sum of even numbers between 1 and 50 is: 420\n",
            "The sum of even numbers between 1 and 50 is: 462\n",
            "The sum of even numbers between 1 and 50 is: 506\n",
            "The sum of even numbers between 1 and 50 is: 552\n",
            "The sum of even numbers between 1 and 50 is: 600\n",
            "The sum of even numbers between 1 and 50 is: 650\n"
          ]
        }
      ]
    },
    {
      "cell_type": "code",
      "source": [
        "#(14) Write a program to reverse a string using a while loop.\n",
        "\n",
        "input_string = input(\"Enter string: \")\n",
        "reversed_string = \"\"\n",
        "length = len(input_string)\n",
        "\n",
        "index = length - 1\n",
        "\n",
        "while index >= 0:\n",
        "    reversed_string += input_string[index]\n",
        "    index -= 1\n",
        "\n",
        "print(f\"The reversed string is: {reversed_string}\")"
      ],
      "metadata": {
        "colab": {
          "base_uri": "https://localhost:8080/"
        },
        "id": "VfBD-HpjmaJF",
        "outputId": "3ea50b97-7111-453e-f5ba-5d304485d011"
      },
      "execution_count": null,
      "outputs": [
        {
          "output_type": "stream",
          "name": "stdout",
          "text": [
            "Enter string: sahil\n",
            "The reversed string is: lihas\n"
          ]
        }
      ]
    },
    {
      "cell_type": "code",
      "source": [
        "#(15) Write a Python program to calculate the factorial of a number provided by the user using a while loop.\n",
        "\n",
        "num = int(input(\"Enter a number: \"))\n",
        "\n",
        "factorial = 1\n",
        "current = 1\n",
        "\n",
        "while current <= num:\n",
        "    factorial *= current\n",
        "    current += 1\n",
        "\n",
        "print(f\"The factorial of {num} is: {factorial}\")"
      ],
      "metadata": {
        "colab": {
          "base_uri": "https://localhost:8080/"
        },
        "id": "R4umsQzdnYvK",
        "outputId": "80ff5d6a-1f78-4947-8f57-b9fc366c2996"
      },
      "execution_count": null,
      "outputs": [
        {
          "output_type": "stream",
          "name": "stdout",
          "text": [
            "Enter a number: 10\n",
            "The factorial of 10 is: 3628800\n"
          ]
        }
      ]
    },
    {
      "cell_type": "code",
      "source": [],
      "metadata": {
        "id": "k7J8kL3nn0Lu"
      },
      "execution_count": null,
      "outputs": []
    }
  ]
}